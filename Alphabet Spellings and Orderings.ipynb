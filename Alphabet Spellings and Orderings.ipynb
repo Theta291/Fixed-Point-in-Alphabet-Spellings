{
 "cells": [
  {
   "cell_type": "markdown",
   "id": "a9dbe521",
   "metadata": {},
   "source": [
    "# Can We Alphabetize The Alphabet?\n",
    "\n",
    "## The Problem\n",
    "\n",
    "I was watching a tiktok the other day that mentioned this: the letters of the English alphabet have spellings, and those spellings are not in alphabetical order. The creator then went on to \"alphabetize\" the alphabet by alphabetizing the spellings and then turning them back into their respective letters.\n",
    "\n",
    "However, I noticed an issue: the spellings of the English letters were still not in alphabetical order if we consider the new alphabet he had created! This lead me to ask, was it possible to reorder the alphabet into a new one where the spellings are in alphabetical order according to this new alphabet?\n",
    "\n",
    "## The Spellings\n",
    "\n",
    "First. we have to know the spellings to know how to order them."
   ]
  },
  {
   "cell_type": "code",
   "execution_count": null,
   "id": "8253876d",
   "metadata": {},
   "outputs": [],
   "source": [
    "letter_spellings = {\n",
    "    'a': \"a\",\n",
    "    'b': \"bee\",\n",
    "    'c': \"cee\",\n",
    "    'd': \"dee\",\n",
    "    'e': \"e\",\n",
    "    'f': \"ef\",\n",
    "    'g': \"gee\",\n",
    "    'h': \"aitch\",\n",
    "    'i': \"i\",\n",
    "    'j': \"jay\",\n",
    "    'k': \"kay\",\n",
    "    'l': \"el\",\n",
    "    'm': \"em\",\n",
    "    'n': \"en\",\n",
    "    'o': \"o\",\n",
    "    'p': \"pee\",\n",
    "    'q': \"cue\",\n",
    "    'r': \"ar\",\n",
    "    's': \"es\",\n",
    "    't': \"tee\",\n",
    "    'u': \"u\",\n",
    "    'v': \"vee\",\n",
    "    'w': \"doubleu\",\n",
    "    'x': \"ex\",\n",
    "    'y': \"wy\",\n",
    "    'z': \"zee\",\n",
    "}\n",
    "\n",
    "spelling_letters = {value: key for key, value in letter_spellings.items()}"
   ]
  },
  {
   "cell_type": "markdown",
   "id": "c6d2bdd9",
   "metadata": {},
   "source": [
    "Notice that these spellings are not listed in alphabetical order: e.g. \"aitch\" appears after \"bee\". If we list them in order and try to order the alphabet according to that list, we get this:"
   ]
  },
  {
   "cell_type": "code",
   "execution_count": null,
   "id": "48a056c3",
   "metadata": {},
   "outputs": [],
   "source": [
    "new_abc = ''.join(char for char, spelling in sorted(letter_spellings.items(), key=lambda item:item[1]))\n",
    "new_abc"
   ]
  },
  {
   "cell_type": "markdown",
   "id": "af1ad76d",
   "metadata": {},
   "source": [
    "Now let's list these spellings of these letters in order:"
   ]
  },
  {
   "cell_type": "code",
   "execution_count": null,
   "id": "5208a92b",
   "metadata": {},
   "outputs": [],
   "source": [
    "for char in new_abc:\n",
    "    print(letter_spellings[char])"
   ]
  },
  {
   "cell_type": "markdown",
   "id": "2012a3cd",
   "metadata": {},
   "source": [
    "In our new alphabet \"w\" comes after \"d\", but in our new list of spellings \"dee\" comes before \"wy\", so our list of spellings is STILL not in alphabetical order, at least not with our new alphabet. So is there a way to come up with a new alphabet so that the list of spellings is in order according to that alphabet?"
   ]
  },
  {
   "cell_type": "markdown",
   "id": "5d32eadb",
   "metadata": {},
   "source": [
    "## Solution\n",
    "\n",
    "There is a way to do find such an alphabet. Note that we went from a list of letters to a list of spellings, ordered that list of spellings, then went back to a list of letters. When we did this, the first list of letters and the second list of letters was the same. However, if the list of spellings was actually in order, then when we try to sort the list of spellings it won't change, and as a result when we turn it back into a list of letters, we get the same list of letters as before. Therefore, if we just keep repeating the process of turning these letters into spellings, sorting the spelling, and turning them back into letters until we get the same list of letters twice, then we've found the alphabet we wanted. However, to do this we need to be able to sort these spellings according to any alphabet. To do this, let's make a mergesort function that works for any comparison function. (We can use any comparison-based sorting here, but I chose mergesort)."
   ]
  },
  {
   "cell_type": "code",
   "execution_count": null,
   "id": "4ff75b39",
   "metadata": {},
   "outputs": [],
   "source": [
    "# The merger\n",
    "def merger(cmp):\n",
    "    def merge(l1, l2):\n",
    "        combined = []\n",
    "        index1 = 0\n",
    "        index2 = 0\n",
    "        while index1 < len(l1) and index2 < len(l2):\n",
    "            a = l1[index1]\n",
    "            b = l2[index2]\n",
    "            if cmp(a, b):\n",
    "                combined.append(a)\n",
    "                index1 += 1\n",
    "            else:\n",
    "                combined.append(b)\n",
    "                index2 += 1\n",
    "        if index1 < len(l1):\n",
    "            combined.extend(l1[index1:])\n",
    "        else:\n",
    "            combined.extend(l2[index2:])\n",
    "        return combined\n",
    "\n",
    "    return merge\n",
    "\n",
    "\n",
    "# A merge sort using the merger\n",
    "def merge_sorter(cmp):\n",
    "    merge = merger(cmp)\n",
    "\n",
    "    def sort(a_list):\n",
    "        half_size = int(len(a_list) / 2)\n",
    "        if half_size:\n",
    "            part_1 = sort(a_list[:half_size])\n",
    "            part_2 = sort(a_list[half_size:])\n",
    "            return merge(part_1, part_2)\n",
    "        else:\n",
    "            return a_list\n",
    "\n",
    "    return sort"
   ]
  },
  {
   "cell_type": "markdown",
   "id": "ad7ffefd",
   "metadata": {},
   "source": [
    "Now that we have a sort that works with any comparison function, we need a way to make a comparison function based on an arbitrary alphabet."
   ]
  },
  {
   "cell_type": "code",
   "execution_count": null,
   "id": "b80213e3",
   "metadata": {},
   "outputs": [],
   "source": [
    "def lexicographic_comparison(ordering):\n",
    "    def cmp(string1, string2):\n",
    "        l1 = len(string1)\n",
    "        l2 = len(string2)\n",
    "        s1, s2, lt = (string1, string2, True) if l1 <= l2 else (string2, string1, False)\n",
    "        for char1, char2 in zip(s1, s2):\n",
    "            i1 = ordering.index(char1)\n",
    "            i2 = ordering.index(char2)\n",
    "            if i1 < i2:\n",
    "                return lt\n",
    "            elif i1 > i2:\n",
    "                return not lt\n",
    "        return lt\n",
    "\n",
    "    return cmp"
   ]
  },
  {
   "cell_type": "markdown",
   "id": "ae167cb7",
   "metadata": {},
   "source": [
    "For our last function, we need to implement the process we described: takes an alphabet, turns it into spellings, sorts the spellings using the alphabet, then turns the spellings back into letters to get a new alphabet."
   ]
  },
  {
   "cell_type": "code",
   "execution_count": null,
   "id": "183bd19b",
   "metadata": {},
   "outputs": [],
   "source": [
    "def permute_to_permute(ordering):\n",
    "    cmp = lexicographic_comparison(ordering)\n",
    "    mergesort = merge_sorter(cmp)\n",
    "    spellings_ordered = mergesort([letter_spellings[letter] for letter in ordering])\n",
    "    return [spelling_letters[spelling] for spelling in spellings_ordered]"
   ]
  },
  {
   "cell_type": "markdown",
   "id": "9469f2fd",
   "metadata": {},
   "source": [
    "Finally, we apply this function in a loop until we get the same alphabet twice. I decided to keep track of all the alphabets we got, just to see what they look like."
   ]
  },
  {
   "cell_type": "code",
   "execution_count": null,
   "id": "83128e36",
   "metadata": {},
   "outputs": [],
   "source": [
    "orders = []\n",
    "curr_order = sorted(letter_spellings.keys())\n",
    "orders.append(curr_order)\n",
    "while True:\n",
    "    new_order = permute_to_permute(curr_order)\n",
    "\n",
    "    if new_order in orders:\n",
    "        orders.append(new_order)\n",
    "        break\n",
    "    else:\n",
    "        orders.append(new_order)\n",
    "        curr_order = new_order\n",
    "\n",
    "for order in orders:\n",
    "  print(''.join(order))"
   ]
  },
  {
   "cell_type": "markdown",
   "id": "2d48dea9",
   "metadata": {},
   "source": [
    "We've done it! There was no guaranteee this would work, because we didn't rule out the possibility that we could get caught in a loop between two, three, or more different alphabets, but we didn't get caught in a loop so it all worked out.\n",
    "\n",
    "This is also not the only alphabet that has its spellings in order! We can try starting from any ordering and seeing what we get, and if we don't get caught in a loop then we've found another alphabet that satisfies our property. Here's one example:"
   ]
  },
  {
   "cell_type": "code",
   "execution_count": null,
   "id": "678d09ac",
   "metadata": {},
   "outputs": [],
   "source": [
    "orders = []\n",
    "curr_order = sorted(letter_spellings.keys(), reverse=True)\n",
    "orders.append(curr_order)\n",
    "while True:\n",
    "    new_order = permute_to_permute(curr_order)\n",
    "\n",
    "    if new_order in orders:\n",
    "        orders.append(new_order)\n",
    "        break\n",
    "    else:\n",
    "        orders.append(new_order)\n",
    "        curr_order = new_order\n",
    "\n",
    "for order in orders:\n",
    "  print(''.join(order))"
   ]
  },
  {
   "cell_type": "code",
   "execution_count": null,
   "id": "e77424c9",
   "metadata": {},
   "outputs": [],
   "source": []
  }
 ],
 "metadata": {
  "kernelspec": {
   "display_name": "Python 3",
   "language": "python",
   "name": "python3"
  },
  "language_info": {
   "codemirror_mode": {
    "name": "ipython",
    "version": 3
   },
   "file_extension": ".py",
   "mimetype": "text/x-python",
   "name": "python",
   "nbconvert_exporter": "python",
   "pygments_lexer": "ipython3",
   "version": "3.8.5"
  }
 },
 "nbformat": 4,
 "nbformat_minor": 5
}
